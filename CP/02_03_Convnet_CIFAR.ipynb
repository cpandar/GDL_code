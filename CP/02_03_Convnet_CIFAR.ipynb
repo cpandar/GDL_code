{
 "cells": [
  {
   "cell_type": "code",
   "execution_count": 1,
   "metadata": {},
   "outputs": [
    {
     "name": "stderr",
     "output_type": "stream",
     "text": [
      "Using TensorFlow backend.\n"
     ]
    }
   ],
   "source": [
    "import numpy as np\n",
    "from keras.utils import to_categorical\n",
    "from keras.datasets import cifar10\n",
    "\n",
    "# load the CIFAR data\n",
    "(xtrain, ytrain), (xtest, ytest) = cifar10.load_data()\n",
    "NUM_CLASSES = 10"
   ]
  },
  {
   "cell_type": "code",
   "execution_count": 2,
   "metadata": {},
   "outputs": [],
   "source": [
    "# convert 0-255 ints to normalized float32s\n",
    "xtrain = xtrain.astype('float32') / 255.0\n",
    "xtest = xtest.astype('float32') / 255.0\n",
    "\n",
    "# converts numbers to a binary matrix representation\n",
    "ytrain = to_categorical( ytrain, NUM_CLASSES )\n",
    "ytest = to_categorical( ytest, NUM_CLASSES )"
   ]
  },
  {
   "cell_type": "code",
   "execution_count": 4,
   "metadata": {},
   "outputs": [
    {
     "data": {
      "image/png": "[encoded data removed]",
      "text/plain": [
       "<Figure size 288x288 with 1 Axes>"
      ]
     },
     "metadata": {
      "needs_background": "light"
     },
     "output_type": "display_data"
    },
    {
     "data": {
      "image/png": "[encoded data removed]",
      "text/plain": [
       "<Figure size 432x288 with 1 Axes>"
      ]
     },
     "metadata": {
      "needs_background": "light"
     },
     "output_type": "display_data"
    }
   ],
   "source": [
    "import matplotlib.pyplot as plt\n",
    "fig = plt.figure(figsize=(4,4))\n",
    "plt.imshow(xtrain[0,:,:,:])\n",
    "plt.show()\n",
    "plt.imshow(xtrain[1,:,:,:])\n",
    "plt.show()"
   ]
  },
  {
   "cell_type": "code",
   "execution_count": 12,
   "metadata": {},
   "outputs": [],
   "source": [
    "## Build a convnet using the keras functional api\n",
    "from keras.layers import Flatten, Dense, Input, Conv2D\n",
    "from keras.layers import  BatchNormalization, LeakyReLU, Dropout\n",
    "from keras.models import Model\n",
    "\n",
    "input_layer = Input(shape=(32,32,3))\n",
    "\n",
    "# first conv layer\n",
    "x = Conv2D(\n",
    "    filters = 32\n",
    "    , kernel_size=3\n",
    "    , strides=1\n",
    "    , padding = 'same'\n",
    ") (input_layer)\n",
    "#batchnorm + leakyrelu\n",
    "x = BatchNormalization()(x)\n",
    "x = LeakyReLU()(x)\n",
    "\n",
    "# second conv layer\n",
    "x = Conv2D(\n",
    "    filters = 32\n",
    "    , kernel_size=3\n",
    "    , strides=2\n",
    "    , padding = 'same'\n",
    ") (x)\n",
    "x = BatchNormalization()(x)\n",
    "x = LeakyReLU()(x)\n",
    "\n",
    "# third conv layer\n",
    "x = Conv2D(\n",
    "    filters = 64\n",
    "    , kernel_size=3\n",
    "    , strides=1\n",
    "    , padding = 'same'\n",
    ") (x)\n",
    "x = BatchNormalization()(x)\n",
    "x = LeakyReLU()(x)\n",
    "\n",
    "# fourth conv layer\n",
    "x = Conv2D(\n",
    "    filters = 64\n",
    "    , kernel_size=3\n",
    "    , strides=2\n",
    "    , padding = 'same'\n",
    ") (x)\n",
    "x = BatchNormalization()(x)\n",
    "x = LeakyReLU()(x)\n",
    "\n",
    "\n",
    "#now flatten\n",
    "x = Flatten()(x)\n",
    "\n",
    "x = Dense(128)(x)\n",
    "x = BatchNormalization()(x)\n",
    "x = LeakyReLU()(x)\n",
    "x = Dropout(rate=0.5)(x)\n",
    "\n",
    "#dense+softmax to output\n",
    "output_layer = Dense( units=NUM_CLASSES, activation='softmax')(x)\n",
    "\n",
    "model = Model(input_layer, output_layer)"
   ]
  },
  {
   "cell_type": "code",
   "execution_count": 13,
   "metadata": {},
   "outputs": [
    {
     "name": "stdout",
     "output_type": "stream",
     "text": [
      "Model: \"model_2\"\n",
      "_________________________________________________________________\n",
      "Layer (type)                 Output Shape              Param #   \n",
      "=================================================================\n",
      "input_5 (InputLayer)         (None, 32, 32, 3)         0         \n",
      "_________________________________________________________________\n",
      "conv2d_9 (Conv2D)            (None, 32, 32, 32)        896       \n",
      "_________________________________________________________________\n",
      "batch_normalization_6 (Batch (None, 32, 32, 32)        128       \n",
      "_________________________________________________________________\n",
      "leaky_re_lu_6 (LeakyReLU)    (None, 32, 32, 32)        0         \n",
      "_________________________________________________________________\n",
      "conv2d_10 (Conv2D)           (None, 16, 16, 32)        9248      \n",
      "_________________________________________________________________\n",
      "batch_normalization_7 (Batch (None, 16, 16, 32)        128       \n",
      "_________________________________________________________________\n",
      "leaky_re_lu_7 (LeakyReLU)    (None, 16, 16, 32)        0         \n",
      "_________________________________________________________________\n",
      "conv2d_11 (Conv2D)           (None, 16, 16, 64)        18496     \n",
      "_________________________________________________________________\n",
      "batch_normalization_8 (Batch (None, 16, 16, 64)        256       \n",
      "_________________________________________________________________\n",
      "leaky_re_lu_8 (LeakyReLU)    (None, 16, 16, 64)        0         \n",
      "_________________________________________________________________\n",
      "conv2d_12 (Conv2D)           (None, 8, 8, 64)          36928     \n",
      "_________________________________________________________________\n",
      "batch_normalization_9 (Batch (None, 8, 8, 64)          256       \n",
      "_________________________________________________________________\n",
      "leaky_re_lu_9 (LeakyReLU)    (None, 8, 8, 64)          0         \n",
      "_________________________________________________________________\n",
      "flatten_4 (Flatten)          (None, 4096)              0         \n",
      "_________________________________________________________________\n",
      "dense_4 (Dense)              (None, 128)               524416    \n",
      "_________________________________________________________________\n",
      "batch_normalization_10 (Batc (None, 128)               512       \n",
      "_________________________________________________________________\n",
      "leaky_re_lu_10 (LeakyReLU)   (None, 128)               0         \n",
      "_________________________________________________________________\n",
      "dropout_1 (Dropout)          (None, 128)               0         \n",
      "_________________________________________________________________\n",
      "dense_5 (Dense)              (None, 10)                1290      \n",
      "=================================================================\n",
      "Total params: 592,554\n",
      "Trainable params: 591,914\n",
      "Non-trainable params: 640\n",
      "_________________________________________________________________\n"
     ]
    }
   ],
   "source": [
    "model.summary()"
   ]
  },
  {
   "cell_type": "code",
   "execution_count": 14,
   "metadata": {},
   "outputs": [],
   "source": [
    "# compile the model\n",
    "from keras.optimizers import Adam\n",
    "opt = Adam( lr=0.0005 )\n",
    "model.compile( loss = 'categorical_crossentropy', optimizer=opt,\n",
    "              metrics = ['accuracy'])"
   ]
  },
  {
   "cell_type": "code",
   "execution_count": 15,
   "metadata": {},
   "outputs": [
    {
     "name": "stdout",
     "output_type": "stream",
     "text": [
      "Epoch 1/10\n",
      "50000/50000 [==============================] - 193s 4ms/step - loss: 1.5663 - accuracy: 0.4506\n",
      "Epoch 2/10\n",
      "50000/50000 [==============================] - 188s 4ms/step - loss: 1.1585 - accuracy: 0.5910\n",
      "Epoch 3/10\n",
      "50000/50000 [==============================] - 156s 3ms/step - loss: 1.0109 - accuracy: 0.6438\n",
      "Epoch 4/10\n",
      "50000/50000 [==============================] - 178s 4ms/step - loss: 0.9294 - accuracy: 0.6748\n",
      "Epoch 5/10\n",
      "50000/50000 [==============================] - 149s 3ms/step - loss: 0.8654 - accuracy: 0.6986\n",
      "Epoch 6/10\n",
      "50000/50000 [==============================] - 193s 4ms/step - loss: 0.8111 - accuracy: 0.7149\n",
      "Epoch 7/10\n",
      "50000/50000 [==============================] - 233s 5ms/step - loss: 0.7710 - accuracy: 0.7332\n",
      "Epoch 8/10\n",
      "50000/50000 [==============================] - 184s 4ms/step - loss: 0.7262 - accuracy: 0.7471\n",
      "Epoch 9/10\n",
      "50000/50000 [==============================] - 150s 3ms/step - loss: 0.6913 - accuracy: 0.7585\n",
      "Epoch 10/10\n",
      "50000/50000 [==============================] - 151s 3ms/step - loss: 0.6548 - accuracy: 0.7712\n"
     ]
    },
    {
     "data": {
      "text/plain": [
       "<keras.callbacks.callbacks.History at 0x7fa3687f6ac8>"
      ]
     },
     "execution_count": 15,
     "metadata": {},
     "output_type": "execute_result"
    }
   ],
   "source": [
    "# train the model\n",
    "model.fit( xtrain, \n",
    "         ytrain,\n",
    "         batch_size=32,\n",
    "         epochs=10,\n",
    "         shuffle=True)"
   ]
  },
  {
   "cell_type": "code",
   "execution_count": 16,
   "metadata": {},
   "outputs": [
    {
     "name": "stdout",
     "output_type": "stream",
     "text": [
      "10000/10000 [==============================] - 8s 808us/step\n"
     ]
    },
    {
     "data": {
      "text/plain": [
       "[0.8865462064743042, 0.7003999948501587]"
      ]
     },
     "execution_count": 16,
     "metadata": {},
     "output_type": "execute_result"
    }
   ],
   "source": [
    "model.evaluate(xtest, ytest, batch_size=1000)"
   ]
  },
  {
   "cell_type": "code",
   "execution_count": 17,
   "metadata": {},
   "outputs": [
    {
     "name": "stdout",
     "output_type": "stream",
     "text": [
      "Done\n"
     ]
    }
   ],
   "source": [
    "## let's try that again with pytorch\n",
    "# imports\n",
    "import torch\n",
    "import torchvision\n",
    "import torch.nn as nn\n",
    "import torch.nn.functional as F\n",
    "from torch.utils.data import DataLoader, random_split\n",
    "import pytorch_lightning as pl\n",
    "from pytorch_lightning import Trainer\n",
    "from pytorch_lightning.core.lightning import LightningModule\n",
    "print('Done')"
   ]
  },
  {
   "cell_type": "code",
   "execution_count": 60,
   "metadata": {},
   "outputs": [
    {
     "name": "stdout",
     "output_type": "stream",
     "text": [
      "Done\n"
     ]
    }
   ],
   "source": [
    "# build the model\n",
    "class CIFARModel( LightningModule):\n",
    "    def __init__( self ):\n",
    "        super().__init__()\n",
    "        self.layer0 = nn.Conv2d( in_channels=3\n",
    "                                , out_channels=32\n",
    "                                , kernel_size=3\n",
    "                                , stride=1\n",
    "                                , padding=2 )\n",
    "        self.layer1 = nn.BatchNorm2d( 32 )\n",
    "        self.layer2 = nn.LeakyReLU()\n",
    "\n",
    "        self.layer3 = nn.Conv2d( in_channels=32\n",
    "                                , out_channels=32\n",
    "                                , kernel_size=3\n",
    "                                , stride=2\n",
    "                                , padding=1 )\n",
    "        self.layer4 = nn.BatchNorm2d( 32 )\n",
    "        self.layer5 = nn.LeakyReLU()\n",
    "\n",
    "        self.layer6 = nn.Conv2d( in_channels=32\n",
    "                                , out_channels=64\n",
    "                                , kernel_size=3\n",
    "                                , stride=1\n",
    "                                , padding=2 )\n",
    "        self.layer7 = nn.BatchNorm2d( 64 )\n",
    "        self.layer8 = nn.LeakyReLU()\n",
    "\n",
    "        self.layer9 = nn.Conv2d( in_channels=64\n",
    "                                , out_channels=64\n",
    "                                , kernel_size=3\n",
    "                                , stride=2\n",
    "                                , padding=1 )\n",
    "        self.layer10 = nn.BatchNorm2d( 64 )\n",
    "        self.layer11 = nn.LeakyReLU()\n",
    "        \n",
    "        self.layer12 = nn.Flatten()\n",
    "        self.layer13 = nn.Linear( 6400, 128)\n",
    "        self.layer14 = nn.LeakyReLU()\n",
    "        self.layer15 = nn.Dropout(0.5)\n",
    "        self.layer16 = torch.nn.Linear( 128, NUM_CLASSES)\n",
    "        \n",
    "        self.loss = torch.nn.CrossEntropyLoss()\n",
    "    def forward( self, x ):\n",
    "#        batch_size, channels, width, height = x.size()\n",
    "        x = self.layer0( x )\n",
    "        x = self.layer1( x )\n",
    "        x = self.layer2( x )\n",
    "        x = self.layer3( x )\n",
    "        x = self.layer4( x )\n",
    "        x = self.layer5( x )\n",
    "        x = self.layer6( x )\n",
    "        x = self.layer7( x )\n",
    "        x = self.layer8( x )\n",
    "        x = self.layer9( x )\n",
    "        x = self.layer10( x )\n",
    "        x = self.layer11( x )\n",
    "        x = self.layer12( x )\n",
    "        x = self.layer13( x )\n",
    "        x = self.layer14( x )\n",
    "        x = self.layer15( x )\n",
    "        x = self.layer16( x )\n",
    "        return x\n",
    "    def training_step( self, batch, batch_idx):\n",
    "        data, target = batch\n",
    "        logits = self.forward( data )\n",
    "        loss = self.loss(logits, torch.max(target,1)[1])\n",
    "        return {'loss': loss}\n",
    "    def configure_optimizers(self):\n",
    "        return torch.optim.Adam(self.parameters(), lr=5e-4)\n",
    "print('Done')"
   ]
  },
  {
   "cell_type": "code",
   "execution_count": 58,
   "metadata": {},
   "outputs": [
    {
     "name": "stdout",
     "output_type": "stream",
     "text": [
      "50000\n",
      "(3, 32, 32)\n"
     ]
    },
    {
     "data": {
      "image/png": "[encoded data removed]",
      "text/plain": [
       "<Figure size 432x288 with 1 Axes>"
      ]
     },
     "metadata": {
      "needs_background": "light"
     },
     "output_type": "display_data"
    },
    {
     "name": "stdout",
     "output_type": "stream",
     "text": [
      "(32, 32, 3)\n",
      "Done\n"
     ]
    }
   ],
   "source": [
    "# write a custom dataset for the cifar data\n",
    "# (or you could just use the torchvision CIFAR dataset/dataloader)\n",
    "from torch.utils.data import Dataset\n",
    "class CIFARDataset( Dataset ):\n",
    "    def __init__( self, xtrain, ytrain):\n",
    "        # need to reorder the data since pytorch expects channels as dim 2\n",
    "        xtrain = np.swapaxes( xtrain, 1, 3)\n",
    "        xtrain = np.swapaxes( xtrain, 2, 3)\n",
    "        self.data = np.asarray(xtrain)\n",
    "        self.labels = np.asarray(ytrain)\n",
    "    def __getitem__( self, index):\n",
    "        pixels = self.data[index,:,:,:]\n",
    "        label = self.labels[index,:]\n",
    "        return pixels, label\n",
    "    def __len__(self):\n",
    "        return self.data.shape[0]\n",
    "\n",
    "dataset = CIFARDataset( xtrain, ytrain )\n",
    "print(len(dataset))\n",
    "(a,b) = dataset[0]\n",
    "print(a.shape)\n",
    "a = np.swapaxes( a, 0, 2)\n",
    "a = np.swapaxes( a, 0, 1)\n",
    "plt.imshow( a )\n",
    "plt.show()\n",
    "print(a.shape)\n",
    "print('Done')\n",
    "\n",
    "from torch.utils.data import DataLoader\n",
    "dataloader = DataLoader(dataset, batch_size=32, shuffle=True, num_workers=3)"
   ]
  },
  {
   "cell_type": "code",
   "execution_count": 63,
   "metadata": {},
   "outputs": [],
   "source": [
    "(a,b) = dataset[0:31]\n",
    "model = CIFARModel()\n",
    "logits = model.forward( torch.tensor(a) )"
   ]
  },
  {
   "cell_type": "code",
   "execution_count": 64,
   "metadata": {},
   "outputs": [
    {
     "name": "stderr",
     "output_type": "stream",
     "text": [
      "GPU available: False, used: False\n",
      "TPU available: False, using: 0 TPU cores\n",
      "\n",
      "   | Name    | Type             | Params\n",
      "----------------------------------------------\n",
      "0  | layer0  | Conv2d           | 896   \n",
      "1  | layer1  | BatchNorm2d      | 64    \n",
      "2  | layer2  | LeakyReLU        | 0     \n",
      "3  | layer3  | Conv2d           | 9.2 K \n",
      "4  | layer4  | BatchNorm2d      | 64    \n",
      "5  | layer5  | LeakyReLU        | 0     \n",
      "6  | layer6  | Conv2d           | 18.5 K\n",
      "7  | layer7  | BatchNorm2d      | 128   \n",
      "8  | layer8  | LeakyReLU        | 0     \n",
      "9  | layer9  | Conv2d           | 36.9 K\n",
      "10 | layer10 | BatchNorm2d      | 128   \n",
      "11 | layer11 | LeakyReLU        | 0     \n",
      "12 | layer12 | Flatten          | 0     \n",
      "13 | layer13 | Linear           | 819 K \n",
      "14 | layer14 | LeakyReLU        | 0     \n",
      "15 | layer15 | Dropout          | 0     \n",
      "16 | layer16 | Linear           | 1.3 K \n",
      "17 | loss    | CrossEntropyLoss | 0     \n",
      "----------------------------------------------\n",
      "886 K     Trainable params\n",
      "0         Non-trainable params\n",
      "886 K     Total params\n",
      "3.546     Total estimated model params size (MB)\n"
     ]
    },
    {
     "data": {
      "application/vnd.jupyter.widget-view+json": {
       "model_id": "acad4830c53947c6ba9b9a91b8cc683b",
       "version_major": 2,
       "version_minor": 0
      },
      "text/plain": [
       "Training: 0it [00:00, ?it/s]"
      ]
     },
     "metadata": {},
     "output_type": "display_data"
    },
    {
     "name": "stdout",
     "output_type": "stream",
     "text": [
      "Done\n"
     ]
    }
   ],
   "source": [
    "# train the model\n",
    "trainer = Trainer(max_epochs=10, gpus=0)\n",
    "trainer.fit(model, dataloader)\n",
    "print('Done')"
   ]
  },
  {
   "cell_type": "code",
   "execution_count": 65,
   "metadata": {},
   "outputs": [
    {
     "name": "stdout",
     "output_type": "stream",
     "text": [
      "0.7621\n"
     ]
    }
   ],
   "source": [
    "model.eval()\n",
    "dataset2 = CIFARDataset( xtest, ytest )\n",
    "dataloader2 = DataLoader(dataset2, batch_size=32, shuffle=False, num_workers=3)\n",
    "correct,total = 0,0\n",
    "for i, data in enumerate( dataloader2, 0):\n",
    "    x,targets = data\n",
    "    output = model(x)\n",
    "    _,predicted = torch.max(output,1)\n",
    "    _,targinds = torch.max(targets,1)\n",
    "    correct += (predicted == targinds).sum().item()\n",
    "    total += x.size()[0]\n",
    "\n",
    "print( correct / total)"
   ]
  },
  {
   "cell_type": "code",
   "execution_count": null,
   "metadata": {},
   "outputs": [],
   "source": []
  }
 ],
 "metadata": {
  "kernelspec": {
   "display_name": "generative",
   "language": "python",
   "name": "generative"
  },
  "language_info": {
   "codemirror_mode": {
    "name": "ipython",
    "version": 3
   },
   "file_extension": ".py",
   "mimetype": "text/x-python",
   "name": "python",
   "nbconvert_exporter": "python",
   "pygments_lexer": "ipython3",
   "version": "3.6.13"
  }
 },
 "nbformat": 4,
 "nbformat_minor": 2
}
